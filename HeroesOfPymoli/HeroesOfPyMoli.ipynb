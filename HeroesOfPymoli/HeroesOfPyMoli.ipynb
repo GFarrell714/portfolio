{
 "cells": [
  {
   "cell_type": "code",
   "execution_count": 1,
   "metadata": {},
   "outputs": [],
   "source": [
    "import pandas as pd"
   ]
  },
  {
   "cell_type": "code",
   "execution_count": 2,
   "metadata": {},
   "outputs": [],
   "source": [
    "purchase_data_file = \"Resources/purchase_data.csv\" "
   ]
  },
  {
   "cell_type": "code",
   "execution_count": 3,
   "metadata": {},
   "outputs": [],
   "source": [
    "purchase_df = pd.read_csv(purchase_data_file)"
   ]
  },
  {
   "cell_type": "code",
   "execution_count": 4,
   "metadata": {},
   "outputs": [],
   "source": [
    "num_players = len(purchase_df[\"SN\"].value_counts())"
   ]
  },
  {
   "cell_type": "code",
   "execution_count": 5,
   "metadata": {},
   "outputs": [
    {
     "data": {
      "text/plain": [
       "576"
      ]
     },
     "execution_count": 5,
     "metadata": {},
     "output_type": "execute_result"
    }
   ],
   "source": [
    "num_players"
   ]
  },
  {
   "cell_type": "code",
   "execution_count": 6,
   "metadata": {},
   "outputs": [
    {
     "name": "stdout",
     "output_type": "stream",
     "text": [
      "__________________\n",
      "Total Players: 576\n",
      "__________________\n"
     ]
    }
   ],
   "source": [
    "print(\"__________________\")\n",
    "print(f\"Total Players: {num_players}\")\n",
    "print(\"__________________\")"
   ]
  },
  {
   "cell_type": "code",
   "execution_count": null,
   "metadata": {},
   "outputs": [],
   "source": []
  },
  {
   "cell_type": "code",
   "execution_count": 7,
   "metadata": {},
   "outputs": [
    {
     "data": {
      "text/plain": [
       "179"
      ]
     },
     "execution_count": 7,
     "metadata": {},
     "output_type": "execute_result"
    }
   ],
   "source": [
    "# Number of Unique Items\n",
    "unique_items = purchase_df[\"Item Name\"].nunique()\n",
    "unique_items"
   ]
  },
  {
   "cell_type": "code",
   "execution_count": 8,
   "metadata": {},
   "outputs": [
    {
     "data": {
      "text/plain": [
       "3.05"
      ]
     },
     "execution_count": 8,
     "metadata": {},
     "output_type": "execute_result"
    }
   ],
   "source": [
    "#Average Purchase Price\n",
    "average_price = round(purchase_df[\"Price\"].mean(),2)\n",
    "average_price"
   ]
  },
  {
   "cell_type": "code",
   "execution_count": 9,
   "metadata": {},
   "outputs": [
    {
     "data": {
      "text/plain": [
       "576"
      ]
     },
     "execution_count": 9,
     "metadata": {},
     "output_type": "execute_result"
    }
   ],
   "source": [
    "# Total Number of Purchases\n",
    "purchase_count = num_players\n",
    "purchase_count"
   ]
  },
  {
   "cell_type": "code",
   "execution_count": 10,
   "metadata": {},
   "outputs": [
    {
     "data": {
      "text/plain": [
       "2379.77"
      ]
     },
     "execution_count": 10,
     "metadata": {},
     "output_type": "execute_result"
    }
   ],
   "source": [
    "# Total Revenue\n",
    "purchase_total = purchase_df[\"Price\"].sum()\n",
    "purchase_total"
   ]
  },
  {
   "cell_type": "code",
   "execution_count": 11,
   "metadata": {},
   "outputs": [
    {
     "name": "stdout",
     "output_type": "stream",
     "text": [
      "______________________________\n",
      "Number of Unique items: 179\n",
      "_________________________\n",
      "Average Purchase Price: 3.05\n",
      "_________________________\n",
      "Totsl Number of Purchases: 576\n",
      "_________________________\n",
      "Total Revenue: 2379.77\n",
      "__________________________\n",
      "________________________________________\n"
     ]
    }
   ],
   "source": [
    "print(\"______________________________\")\n",
    "print(f\"Number of Unique items: {unique_items}\")\n",
    "print(\"_________________________\")\n",
    "print(f\"Average Purchase Price: {average_price}\")\n",
    "print(\"_________________________\")\n",
    "print(f\"Totsl Number of Purchases: {purchase_count}\")\n",
    "print(\"_________________________\")\n",
    "print(f\"Total Revenue: {purchase_total}\")\n",
    "print(\"__________________________\")\n",
    "print(\"________________________________________\")"
   ]
  },
  {
   "cell_type": "code",
   "execution_count": null,
   "metadata": {},
   "outputs": [],
   "source": []
  },
  {
   "cell_type": "markdown",
   "metadata": {},
   "source": [
    "GENDER"
   ]
  },
  {
   "cell_type": "code",
   "execution_count": 12,
   "metadata": {},
   "outputs": [],
   "source": [
    "import pandas as pd"
   ]
  },
  {
   "cell_type": "code",
   "execution_count": 13,
   "metadata": {},
   "outputs": [],
   "source": [
    "purchase_data_file = \"Resources/purchase_data.csv\" "
   ]
  },
  {
   "cell_type": "code",
   "execution_count": 14,
   "metadata": {},
   "outputs": [],
   "source": [
    "purchase_df = pd.read_csv(purchase_data_file)"
   ]
  },
  {
   "cell_type": "code",
   "execution_count": 15,
   "metadata": {
    "scrolled": true
   },
   "outputs": [
    {
     "data": {
      "text/html": [
       "<div>\n",
       "<style scoped>\n",
       "    .dataframe tbody tr th:only-of-type {\n",
       "        vertical-align: middle;\n",
       "    }\n",
       "\n",
       "    .dataframe tbody tr th {\n",
       "        vertical-align: top;\n",
       "    }\n",
       "\n",
       "    .dataframe thead th {\n",
       "        text-align: right;\n",
       "    }\n",
       "</style>\n",
       "<table border=\"1\" class=\"dataframe\">\n",
       "  <thead>\n",
       "    <tr style=\"text-align: right;\">\n",
       "      <th></th>\n",
       "      <th>Purchase ID</th>\n",
       "      <th>SN</th>\n",
       "      <th>Age</th>\n",
       "      <th>Gender</th>\n",
       "      <th>Item ID</th>\n",
       "      <th>Item Name</th>\n",
       "      <th>Price</th>\n",
       "    </tr>\n",
       "  </thead>\n",
       "  <tbody>\n",
       "    <tr>\n",
       "      <th>775</th>\n",
       "      <td>775</td>\n",
       "      <td>Aethedru70</td>\n",
       "      <td>21</td>\n",
       "      <td>Female</td>\n",
       "      <td>60</td>\n",
       "      <td>Wolf</td>\n",
       "      <td>3.54</td>\n",
       "    </tr>\n",
       "    <tr>\n",
       "      <th>776</th>\n",
       "      <td>776</td>\n",
       "      <td>Iral74</td>\n",
       "      <td>21</td>\n",
       "      <td>Male</td>\n",
       "      <td>164</td>\n",
       "      <td>Exiled Doomblade</td>\n",
       "      <td>1.63</td>\n",
       "    </tr>\n",
       "    <tr>\n",
       "      <th>777</th>\n",
       "      <td>777</td>\n",
       "      <td>Yathecal72</td>\n",
       "      <td>20</td>\n",
       "      <td>Male</td>\n",
       "      <td>67</td>\n",
       "      <td>Celeste, Incarnation of the Corrupted</td>\n",
       "      <td>3.46</td>\n",
       "    </tr>\n",
       "    <tr>\n",
       "      <th>778</th>\n",
       "      <td>778</td>\n",
       "      <td>Sisur91</td>\n",
       "      <td>7</td>\n",
       "      <td>Male</td>\n",
       "      <td>92</td>\n",
       "      <td>Final Critic</td>\n",
       "      <td>4.19</td>\n",
       "    </tr>\n",
       "    <tr>\n",
       "      <th>779</th>\n",
       "      <td>779</td>\n",
       "      <td>Ennrian78</td>\n",
       "      <td>24</td>\n",
       "      <td>Male</td>\n",
       "      <td>50</td>\n",
       "      <td>Dawn</td>\n",
       "      <td>4.60</td>\n",
       "    </tr>\n",
       "  </tbody>\n",
       "</table>\n",
       "</div>"
      ],
      "text/plain": [
       "     Purchase ID          SN  Age  Gender  Item ID  \\\n",
       "775          775  Aethedru70   21  Female       60   \n",
       "776          776      Iral74   21    Male      164   \n",
       "777          777  Yathecal72   20    Male       67   \n",
       "778          778     Sisur91    7    Male       92   \n",
       "779          779   Ennrian78   24    Male       50   \n",
       "\n",
       "                                 Item Name  Price  \n",
       "775                                   Wolf   3.54  \n",
       "776                       Exiled Doomblade   1.63  \n",
       "777  Celeste, Incarnation of the Corrupted   3.46  \n",
       "778                           Final Critic   4.19  \n",
       "779                                   Dawn   4.60  "
      ]
     },
     "execution_count": 15,
     "metadata": {},
     "output_type": "execute_result"
    }
   ],
   "source": [
    "purchase_df.tail()"
   ]
  },
  {
   "cell_type": "code",
   "execution_count": 16,
   "metadata": {},
   "outputs": [],
   "source": [
    "num_players = len(purchase_df[\"SN\"].value_counts())"
   ]
  },
  {
   "cell_type": "code",
   "execution_count": 17,
   "metadata": {},
   "outputs": [
    {
     "data": {
      "text/plain": [
       "576"
      ]
     },
     "execution_count": 17,
     "metadata": {},
     "output_type": "execute_result"
    }
   ],
   "source": [
    "num_players"
   ]
  },
  {
   "cell_type": "code",
   "execution_count": 18,
   "metadata": {},
   "outputs": [],
   "source": [
    "gender_grouped_df = purchase_df.groupby(\"Gender\")"
   ]
  },
  {
   "cell_type": "code",
   "execution_count": 19,
   "metadata": {},
   "outputs": [],
   "source": [
    "gender_count = gender_grouped_df[\"SN\"].nunique()"
   ]
  },
  {
   "cell_type": "code",
   "execution_count": 20,
   "metadata": {},
   "outputs": [
    {
     "data": {
      "text/plain": [
       "Gender\n",
       "Female                    81\n",
       "Male                     484\n",
       "Other / Non-Disclosed     11\n",
       "Name: SN, dtype: int64"
      ]
     },
     "execution_count": 20,
     "metadata": {},
     "output_type": "execute_result"
    }
   ],
   "source": [
    "gender_count"
   ]
  },
  {
   "cell_type": "code",
   "execution_count": 21,
   "metadata": {},
   "outputs": [],
   "source": [
    "gender_percentage = ((gender_count / num_players)*100).round(2)"
   ]
  },
  {
   "cell_type": "code",
   "execution_count": 22,
   "metadata": {},
   "outputs": [
    {
     "data": {
      "text/plain": [
       "Gender\n",
       "Female                   14.06\n",
       "Male                     84.03\n",
       "Other / Non-Disclosed     1.91\n",
       "Name: SN, dtype: float64"
      ]
     },
     "execution_count": 22,
     "metadata": {},
     "output_type": "execute_result"
    }
   ],
   "source": [
    "gender_percentage"
   ]
  },
  {
   "cell_type": "code",
   "execution_count": 23,
   "metadata": {},
   "outputs": [],
   "source": [
    "# Ceeate new DataFrame to represent Gender Demographics\n",
    "gender_demo_df = pd.DataFrame({\"Total Count\":gender_count,\n",
    "                            \"Percentage of Players\":gender_percentage})"
   ]
  },
  {
   "cell_type": "markdown",
   "metadata": {},
   "source": [
    "Gender Demographics"
   ]
  },
  {
   "cell_type": "code",
   "execution_count": 24,
   "metadata": {},
   "outputs": [
    {
     "data": {
      "text/html": [
       "<div>\n",
       "<style scoped>\n",
       "    .dataframe tbody tr th:only-of-type {\n",
       "        vertical-align: middle;\n",
       "    }\n",
       "\n",
       "    .dataframe tbody tr th {\n",
       "        vertical-align: top;\n",
       "    }\n",
       "\n",
       "    .dataframe thead th {\n",
       "        text-align: right;\n",
       "    }\n",
       "</style>\n",
       "<table border=\"1\" class=\"dataframe\">\n",
       "  <thead>\n",
       "    <tr style=\"text-align: right;\">\n",
       "      <th></th>\n",
       "      <th>Total Count</th>\n",
       "      <th>Percentage of Players</th>\n",
       "    </tr>\n",
       "    <tr>\n",
       "      <th>Gender</th>\n",
       "      <th></th>\n",
       "      <th></th>\n",
       "    </tr>\n",
       "  </thead>\n",
       "  <tbody>\n",
       "    <tr>\n",
       "      <th>Female</th>\n",
       "      <td>81</td>\n",
       "      <td>14.06</td>\n",
       "    </tr>\n",
       "    <tr>\n",
       "      <th>Male</th>\n",
       "      <td>484</td>\n",
       "      <td>84.03</td>\n",
       "    </tr>\n",
       "    <tr>\n",
       "      <th>Other / Non-Disclosed</th>\n",
       "      <td>11</td>\n",
       "      <td>1.91</td>\n",
       "    </tr>\n",
       "  </tbody>\n",
       "</table>\n",
       "</div>"
      ],
      "text/plain": [
       "                       Total Count  Percentage of Players\n",
       "Gender                                                   \n",
       "Female                          81                  14.06\n",
       "Male                           484                  84.03\n",
       "Other / Non-Disclosed           11                   1.91"
      ]
     },
     "execution_count": 24,
     "metadata": {},
     "output_type": "execute_result"
    }
   ],
   "source": [
    "gender_demo_df.head()"
   ]
  },
  {
   "cell_type": "code",
   "execution_count": null,
   "metadata": {},
   "outputs": [],
   "source": []
  },
  {
   "cell_type": "markdown",
   "metadata": {},
   "source": [
    "Purchasing Analysis (Gender)"
   ]
  },
  {
   "cell_type": "code",
   "execution_count": 25,
   "metadata": {},
   "outputs": [],
   "source": [
    "purchase_count = gender_grouped_df[\"Purchase ID\"].count()"
   ]
  },
  {
   "cell_type": "code",
   "execution_count": 26,
   "metadata": {},
   "outputs": [
    {
     "data": {
      "text/plain": [
       "Gender\n",
       "Female                   113\n",
       "Male                     652\n",
       "Other / Non-Disclosed     15\n",
       "Name: Purchase ID, dtype: int64"
      ]
     },
     "execution_count": 26,
     "metadata": {},
     "output_type": "execute_result"
    }
   ],
   "source": [
    "purchase_count"
   ]
  },
  {
   "cell_type": "code",
   "execution_count": 27,
   "metadata": {},
   "outputs": [],
   "source": [
    "average_purchase_price = gender_grouped_df[\"Price\"].mean()"
   ]
  },
  {
   "cell_type": "code",
   "execution_count": 28,
   "metadata": {},
   "outputs": [
    {
     "data": {
      "text/plain": [
       "Gender\n",
       "Female                   3.20\n",
       "Male                     3.02\n",
       "Other / Non-Disclosed    3.35\n",
       "Name: Price, dtype: float64"
      ]
     },
     "execution_count": 28,
     "metadata": {},
     "output_type": "execute_result"
    }
   ],
   "source": [
    "average_purchase_price.round(2)"
   ]
  },
  {
   "cell_type": "code",
   "execution_count": 29,
   "metadata": {},
   "outputs": [],
   "source": [
    "total_purchase_value = gender_grouped_df[\"Price\"].sum()"
   ]
  },
  {
   "cell_type": "code",
   "execution_count": 30,
   "metadata": {},
   "outputs": [
    {
     "data": {
      "text/plain": [
       "Gender\n",
       "Female                    361.94\n",
       "Male                     1967.64\n",
       "Other / Non-Disclosed      50.19\n",
       "Name: Price, dtype: float64"
      ]
     },
     "execution_count": 30,
     "metadata": {},
     "output_type": "execute_result"
    }
   ],
   "source": [
    "total_purchase_value.round(2)"
   ]
  },
  {
   "cell_type": "code",
   "execution_count": 31,
   "metadata": {},
   "outputs": [],
   "source": [
    "avg_purchase_person = total_purchase_value / gender_count"
   ]
  },
  {
   "cell_type": "code",
   "execution_count": 32,
   "metadata": {},
   "outputs": [
    {
     "data": {
      "text/plain": [
       "Gender\n",
       "Female                   4.47\n",
       "Male                     4.07\n",
       "Other / Non-Disclosed    4.56\n",
       "dtype: float64"
      ]
     },
     "execution_count": 32,
     "metadata": {},
     "output_type": "execute_result"
    }
   ],
   "source": [
    "avg_purchase_person.round(2)"
   ]
  },
  {
   "cell_type": "code",
   "execution_count": 33,
   "metadata": {},
   "outputs": [
    {
     "name": "stdout",
     "output_type": "stream",
     "text": [
      "Purchase Count: Gender\n",
      "Female                   113\n",
      "Male                     652\n",
      "Other / Non-Disclosed     15\n",
      "Name: Purchase ID, dtype: int64\n",
      "______________________________________\n",
      "Average Purchase Price: Gender\n",
      "Female                   3.20\n",
      "Male                     3.02\n",
      "Other / Non-Disclosed    3.35\n",
      "Name: Price, dtype: float64\n",
      "_______________________________________\n",
      "Total Purchase Value: Gender\n",
      "Female                    361.94\n",
      "Male                     1967.64\n",
      "Other / Non-Disclosed      50.19\n",
      "Name: Price, dtype: float64\n",
      "_______________________________________\n",
      "Average Purchase Total per Person by Gender: Gender\n",
      "Female                   4.47\n",
      "Male                     4.07\n",
      "Other / Non-Disclosed    4.56\n",
      "dtype: float64\n"
     ]
    }
   ],
   "source": [
    "print(f\"Purchase Count: {purchase_count}\")\n",
    "print(\"______________________________________\")\n",
    "print(f\"Average Purchase Price: {average_purchase_price.round(2)}\")\n",
    "print(\"_______________________________________\")\n",
    "print(f\"Total Purchase Value: {total_purchase_value.round(2)}\")\n",
    "print(\"_______________________________________\")\n",
    "print(f\"Average Purchase Total per Person by Gender: {avg_purchase_person.round(2)}\")"
   ]
  },
  {
   "cell_type": "code",
   "execution_count": null,
   "metadata": {},
   "outputs": [],
   "source": []
  },
  {
   "cell_type": "markdown",
   "metadata": {},
   "source": [
    "Age Demographics"
   ]
  },
  {
   "cell_type": "code",
   "execution_count": 34,
   "metadata": {},
   "outputs": [],
   "source": [
    "purchase_df.loc[(purchase_df['Age'] < 10), 'age_bin'] = \"< 10\"\n",
    "purchase_df.loc[(purchase_df['Age'] >= 10) & (purchase_df['Age'] <= 14), 'age_bin'] = \"10 - 14\"\n",
    "purchase_df.loc[(purchase_df['Age'] >= 15) & (purchase_df['Age'] <= 19), 'age_bin'] = \"15 - 19\"\n",
    "purchase_df.loc[(purchase_df['Age'] >= 20) & (purchase_df['Age'] <= 24), 'age_bin'] = \"20 - 24\"\n",
    "purchase_df.loc[(purchase_df['Age'] >= 25) & (purchase_df['Age'] <= 29), 'age_bin'] = \"25 - 29\"\n",
    "purchase_df.loc[(purchase_df['Age'] >= 30) & (purchase_df['Age'] <= 34), 'age_bin'] = \"30 - 34\"\n",
    "purchase_df.loc[(purchase_df['Age'] >= 35) & (purchase_df['Age'] <= 39), 'age_bin'] = \"35 - 39\"\n",
    "purchase_df.loc[(purchase_df['Age'] >= 40), 'age_bin'] = \"> 40\""
   ]
  },
  {
   "cell_type": "code",
   "execution_count": 35,
   "metadata": {},
   "outputs": [
    {
     "data": {
      "text/html": [
       "<style  type=\"text/css\" >\n",
       "</style><table id=\"T_6e387a68_0924_11eb_b8e6_acde48001122\" ><thead>    <tr>        <th class=\"blank level0\" ></th>        <th class=\"col_heading level0 col0\" ># of Purchases</th>        <th class=\"col_heading level0 col1\" >Average Purchase Price</th>        <th class=\"col_heading level0 col2\" >Total Purchase Value</th>        <th class=\"col_heading level0 col3\" ># of Purchasers</th>        <th class=\"col_heading level0 col4\" >Normalized Totals</th>    </tr>    <tr>        <th class=\"index_name level0\" >Age</th>        <th class=\"blank\" ></th>        <th class=\"blank\" ></th>        <th class=\"blank\" ></th>        <th class=\"blank\" ></th>        <th class=\"blank\" ></th>    </tr></thead><tbody>\n",
       "                <tr>\n",
       "                        <th id=\"T_6e387a68_0924_11eb_b8e6_acde48001122level0_row0\" class=\"row_heading level0 row0\" >10 - 14</th>\n",
       "                        <td id=\"T_6e387a68_0924_11eb_b8e6_acde48001122row0_col0\" class=\"data row0 col0\" >28</td>\n",
       "                        <td id=\"T_6e387a68_0924_11eb_b8e6_acde48001122row0_col1\" class=\"data row0 col1\" >$2.96</td>\n",
       "                        <td id=\"T_6e387a68_0924_11eb_b8e6_acde48001122row0_col2\" class=\"data row0 col2\" >$82.78</td>\n",
       "                        <td id=\"T_6e387a68_0924_11eb_b8e6_acde48001122row0_col3\" class=\"data row0 col3\" >22</td>\n",
       "                        <td id=\"T_6e387a68_0924_11eb_b8e6_acde48001122row0_col4\" class=\"data row0 col4\" >$3.76</td>\n",
       "            </tr>\n",
       "            <tr>\n",
       "                        <th id=\"T_6e387a68_0924_11eb_b8e6_acde48001122level0_row1\" class=\"row_heading level0 row1\" >15 - 19</th>\n",
       "                        <td id=\"T_6e387a68_0924_11eb_b8e6_acde48001122row1_col0\" class=\"data row1 col0\" >136</td>\n",
       "                        <td id=\"T_6e387a68_0924_11eb_b8e6_acde48001122row1_col1\" class=\"data row1 col1\" >$3.04</td>\n",
       "                        <td id=\"T_6e387a68_0924_11eb_b8e6_acde48001122row1_col2\" class=\"data row1 col2\" >$412.89</td>\n",
       "                        <td id=\"T_6e387a68_0924_11eb_b8e6_acde48001122row1_col3\" class=\"data row1 col3\" >107</td>\n",
       "                        <td id=\"T_6e387a68_0924_11eb_b8e6_acde48001122row1_col4\" class=\"data row1 col4\" >$3.86</td>\n",
       "            </tr>\n",
       "            <tr>\n",
       "                        <th id=\"T_6e387a68_0924_11eb_b8e6_acde48001122level0_row2\" class=\"row_heading level0 row2\" >20 - 24</th>\n",
       "                        <td id=\"T_6e387a68_0924_11eb_b8e6_acde48001122row2_col0\" class=\"data row2 col0\" >365</td>\n",
       "                        <td id=\"T_6e387a68_0924_11eb_b8e6_acde48001122row2_col1\" class=\"data row2 col1\" >$3.05</td>\n",
       "                        <td id=\"T_6e387a68_0924_11eb_b8e6_acde48001122row2_col2\" class=\"data row2 col2\" >$1114.06</td>\n",
       "                        <td id=\"T_6e387a68_0924_11eb_b8e6_acde48001122row2_col3\" class=\"data row2 col3\" >258</td>\n",
       "                        <td id=\"T_6e387a68_0924_11eb_b8e6_acde48001122row2_col4\" class=\"data row2 col4\" >$4.32</td>\n",
       "            </tr>\n",
       "            <tr>\n",
       "                        <th id=\"T_6e387a68_0924_11eb_b8e6_acde48001122level0_row3\" class=\"row_heading level0 row3\" >25 - 29</th>\n",
       "                        <td id=\"T_6e387a68_0924_11eb_b8e6_acde48001122row3_col0\" class=\"data row3 col0\" >101</td>\n",
       "                        <td id=\"T_6e387a68_0924_11eb_b8e6_acde48001122row3_col1\" class=\"data row3 col1\" >$2.90</td>\n",
       "                        <td id=\"T_6e387a68_0924_11eb_b8e6_acde48001122row3_col2\" class=\"data row3 col2\" >$293.00</td>\n",
       "                        <td id=\"T_6e387a68_0924_11eb_b8e6_acde48001122row3_col3\" class=\"data row3 col3\" >77</td>\n",
       "                        <td id=\"T_6e387a68_0924_11eb_b8e6_acde48001122row3_col4\" class=\"data row3 col4\" >$3.81</td>\n",
       "            </tr>\n",
       "            <tr>\n",
       "                        <th id=\"T_6e387a68_0924_11eb_b8e6_acde48001122level0_row4\" class=\"row_heading level0 row4\" >30 - 34</th>\n",
       "                        <td id=\"T_6e387a68_0924_11eb_b8e6_acde48001122row4_col0\" class=\"data row4 col0\" >73</td>\n",
       "                        <td id=\"T_6e387a68_0924_11eb_b8e6_acde48001122row4_col1\" class=\"data row4 col1\" >$2.93</td>\n",
       "                        <td id=\"T_6e387a68_0924_11eb_b8e6_acde48001122row4_col2\" class=\"data row4 col2\" >$214.00</td>\n",
       "                        <td id=\"T_6e387a68_0924_11eb_b8e6_acde48001122row4_col3\" class=\"data row4 col3\" >52</td>\n",
       "                        <td id=\"T_6e387a68_0924_11eb_b8e6_acde48001122row4_col4\" class=\"data row4 col4\" >$4.12</td>\n",
       "            </tr>\n",
       "            <tr>\n",
       "                        <th id=\"T_6e387a68_0924_11eb_b8e6_acde48001122level0_row5\" class=\"row_heading level0 row5\" >35 - 39</th>\n",
       "                        <td id=\"T_6e387a68_0924_11eb_b8e6_acde48001122row5_col0\" class=\"data row5 col0\" >41</td>\n",
       "                        <td id=\"T_6e387a68_0924_11eb_b8e6_acde48001122row5_col1\" class=\"data row5 col1\" >$3.60</td>\n",
       "                        <td id=\"T_6e387a68_0924_11eb_b8e6_acde48001122row5_col2\" class=\"data row5 col2\" >$147.67</td>\n",
       "                        <td id=\"T_6e387a68_0924_11eb_b8e6_acde48001122row5_col3\" class=\"data row5 col3\" >31</td>\n",
       "                        <td id=\"T_6e387a68_0924_11eb_b8e6_acde48001122row5_col4\" class=\"data row5 col4\" >$4.76</td>\n",
       "            </tr>\n",
       "            <tr>\n",
       "                        <th id=\"T_6e387a68_0924_11eb_b8e6_acde48001122level0_row6\" class=\"row_heading level0 row6\" >< 10</th>\n",
       "                        <td id=\"T_6e387a68_0924_11eb_b8e6_acde48001122row6_col0\" class=\"data row6 col0\" >23</td>\n",
       "                        <td id=\"T_6e387a68_0924_11eb_b8e6_acde48001122row6_col1\" class=\"data row6 col1\" >$3.35</td>\n",
       "                        <td id=\"T_6e387a68_0924_11eb_b8e6_acde48001122row6_col2\" class=\"data row6 col2\" >$77.13</td>\n",
       "                        <td id=\"T_6e387a68_0924_11eb_b8e6_acde48001122row6_col3\" class=\"data row6 col3\" >17</td>\n",
       "                        <td id=\"T_6e387a68_0924_11eb_b8e6_acde48001122row6_col4\" class=\"data row6 col4\" >$4.54</td>\n",
       "            </tr>\n",
       "            <tr>\n",
       "                        <th id=\"T_6e387a68_0924_11eb_b8e6_acde48001122level0_row7\" class=\"row_heading level0 row7\" >> 40</th>\n",
       "                        <td id=\"T_6e387a68_0924_11eb_b8e6_acde48001122row7_col0\" class=\"data row7 col0\" >13</td>\n",
       "                        <td id=\"T_6e387a68_0924_11eb_b8e6_acde48001122row7_col1\" class=\"data row7 col1\" >$2.94</td>\n",
       "                        <td id=\"T_6e387a68_0924_11eb_b8e6_acde48001122row7_col2\" class=\"data row7 col2\" >$38.24</td>\n",
       "                        <td id=\"T_6e387a68_0924_11eb_b8e6_acde48001122row7_col3\" class=\"data row7 col3\" >12</td>\n",
       "                        <td id=\"T_6e387a68_0924_11eb_b8e6_acde48001122row7_col4\" class=\"data row7 col4\" >$3.19</td>\n",
       "            </tr>\n",
       "    </tbody></table>"
      ],
      "text/plain": [
       "<pandas.io.formats.style.Styler at 0x7fd9c2460550>"
      ]
     },
     "execution_count": 35,
     "metadata": {},
     "output_type": "execute_result"
    }
   ],
   "source": [
    "# counts purchases by age bin by counting screen names (non-unique)\n",
    "pur_count_age = pd.DataFrame(purchase_df.groupby('age_bin')['SN'].count())\n",
    "# finds avg price of purchases by age bin\n",
    "avg_price_age = pd.DataFrame(purchase_df.groupby('age_bin')['Price'].mean())\n",
    "# finds total purchase value by age bin\n",
    "tot_pur_age = pd.DataFrame(purchase_df.groupby('age_bin')['Price'].sum())\n",
    "# deletes multiple occurances of SN while only keeping last, then counts # of unique\n",
    "# players by age bin\n",
    "no_dup_age = pd.DataFrame(purchase_df.drop_duplicates('SN', keep = 'last').groupby('age_bin')['SN'].count())\n",
    "# merges all info from above into one df\n",
    "merge_age = pd.merge(pur_count_age, avg_price_age, left_index = True, right_index = True).merge(tot_pur_age, left_index = True, right_index = True).merge(no_dup_age, left_index = True, right_index = True)\n",
    "# renames columns\n",
    "merge_age.rename(columns = {\"SN_x\": \"# of Purchases\", \"Price_x\": \"Average Purchase Price\", \"Price_y\": \"Total Purchase Value\", \"SN_y\": \"# of Purchasers\"}, inplace = True)\n",
    "# calculates normalized totals\n",
    "merge_age['Normalized Totals'] = merge_age['Total Purchase Value']/merge_age['# of Purchasers']\n",
    "# rest index for aesthetics\n",
    "merge_age.index.rename(\"Age\", inplace = True)\n",
    "# formats\n",
    "merge_age.style.format({'Average Purchase Price': '${:.2f}', 'Total Purchase Value': '${:.2f}', 'Normalized Totals': '${:.2f}'})"
   ]
  },
  {
   "cell_type": "code",
   "execution_count": null,
   "metadata": {},
   "outputs": [],
   "source": []
  },
  {
   "cell_type": "code",
   "execution_count": 36,
   "metadata": {},
   "outputs": [],
   "source": [
    "age_grouped_df = purchase_df.groupby(\"Age\")"
   ]
  },
  {
   "cell_type": "markdown",
   "metadata": {},
   "source": [
    "Top Spenders"
   ]
  },
  {
   "cell_type": "code",
   "execution_count": 37,
   "metadata": {},
   "outputs": [
    {
     "data": {
      "text/html": [
       "<style  type=\"text/css\" >\n",
       "</style><table id=\"T_6ea886d4_0924_11eb_9eee_acde48001122\" ><thead>    <tr>        <th class=\"blank level0\" ></th>        <th class=\"col_heading level0 col0\" >Total Purchase Value</th>        <th class=\"col_heading level0 col1\" >Purchase Count</th>        <th class=\"col_heading level0 col2\" >Average Purchase Price</th>    </tr>    <tr>        <th class=\"index_name level0\" >SN</th>        <th class=\"blank\" ></th>        <th class=\"blank\" ></th>        <th class=\"blank\" ></th>    </tr></thead><tbody>\n",
       "                <tr>\n",
       "                        <th id=\"T_6ea886d4_0924_11eb_9eee_acde48001122level0_row0\" class=\"row_heading level0 row0\" >Lisosia93</th>\n",
       "                        <td id=\"T_6ea886d4_0924_11eb_9eee_acde48001122row0_col0\" class=\"data row0 col0\" >$18.96</td>\n",
       "                        <td id=\"T_6ea886d4_0924_11eb_9eee_acde48001122row0_col1\" class=\"data row0 col1\" >5</td>\n",
       "                        <td id=\"T_6ea886d4_0924_11eb_9eee_acde48001122row0_col2\" class=\"data row0 col2\" >$3.79</td>\n",
       "            </tr>\n",
       "            <tr>\n",
       "                        <th id=\"T_6ea886d4_0924_11eb_9eee_acde48001122level0_row1\" class=\"row_heading level0 row1\" >Idastidru52</th>\n",
       "                        <td id=\"T_6ea886d4_0924_11eb_9eee_acde48001122row1_col0\" class=\"data row1 col0\" >$15.45</td>\n",
       "                        <td id=\"T_6ea886d4_0924_11eb_9eee_acde48001122row1_col1\" class=\"data row1 col1\" >4</td>\n",
       "                        <td id=\"T_6ea886d4_0924_11eb_9eee_acde48001122row1_col2\" class=\"data row1 col2\" >$3.86</td>\n",
       "            </tr>\n",
       "            <tr>\n",
       "                        <th id=\"T_6ea886d4_0924_11eb_9eee_acde48001122level0_row2\" class=\"row_heading level0 row2\" >Chamjask73</th>\n",
       "                        <td id=\"T_6ea886d4_0924_11eb_9eee_acde48001122row2_col0\" class=\"data row2 col0\" >$13.83</td>\n",
       "                        <td id=\"T_6ea886d4_0924_11eb_9eee_acde48001122row2_col1\" class=\"data row2 col1\" >3</td>\n",
       "                        <td id=\"T_6ea886d4_0924_11eb_9eee_acde48001122row2_col2\" class=\"data row2 col2\" >$4.61</td>\n",
       "            </tr>\n",
       "            <tr>\n",
       "                        <th id=\"T_6ea886d4_0924_11eb_9eee_acde48001122level0_row3\" class=\"row_heading level0 row3\" >Iral74</th>\n",
       "                        <td id=\"T_6ea886d4_0924_11eb_9eee_acde48001122row3_col0\" class=\"data row3 col0\" >$13.62</td>\n",
       "                        <td id=\"T_6ea886d4_0924_11eb_9eee_acde48001122row3_col1\" class=\"data row3 col1\" >4</td>\n",
       "                        <td id=\"T_6ea886d4_0924_11eb_9eee_acde48001122row3_col2\" class=\"data row3 col2\" >$3.40</td>\n",
       "            </tr>\n",
       "            <tr>\n",
       "                        <th id=\"T_6ea886d4_0924_11eb_9eee_acde48001122level0_row4\" class=\"row_heading level0 row4\" >Iskadarya95</th>\n",
       "                        <td id=\"T_6ea886d4_0924_11eb_9eee_acde48001122row4_col0\" class=\"data row4 col0\" >$13.10</td>\n",
       "                        <td id=\"T_6ea886d4_0924_11eb_9eee_acde48001122row4_col1\" class=\"data row4 col1\" >3</td>\n",
       "                        <td id=\"T_6ea886d4_0924_11eb_9eee_acde48001122row4_col2\" class=\"data row4 col2\" >$4.37</td>\n",
       "            </tr>\n",
       "    </tbody></table>"
      ],
      "text/plain": [
       "<pandas.io.formats.style.Styler at 0x7fd9ba9ca860>"
      ]
     },
     "execution_count": 37,
     "metadata": {},
     "output_type": "execute_result"
    }
   ],
   "source": [
    "# Group by screen name to find, total purchase per person, number of purchases per person, and average price price per person\n",
    "purchase_amt_by_SN = pd.DataFrame(purchase_df.groupby('SN')['Price'].sum())\n",
    "num_purchase_by_SN = pd.DataFrame(purchase_df.groupby('SN')['Price'].count())\n",
    "avg_purchase_by_SN = pd.DataFrame(purchase_df.groupby('SN')['Price'].mean())\n",
    "\n",
    "merged_top5 = pd.merge(purchase_amt_by_SN, num_purchase_by_SN, left_index = True, right_index = True).merge(avg_purchase_by_SN, left_index=True, right_index=True)\n",
    "\n",
    "merged_top5.rename(columns = {'Price_x': 'Total Purchase Value', 'Price_y':'Purchase Count', 'Price':'Average Purchase Price'}, inplace = True)\n",
    "\n",
    "merged_top5.sort_values('Total Purchase Value', ascending = False, inplace=True)\n",
    "\n",
    "merged_top5 = merged_top5.head()\n",
    "\n",
    "merged_top5.style.format({'Total Purchase Value': '${:.2f}', 'Average Purchase Price': '${:.2f}'})"
   ]
  },
  {
   "cell_type": "code",
   "execution_count": null,
   "metadata": {},
   "outputs": [],
   "source": []
  },
  {
   "cell_type": "markdown",
   "metadata": {},
   "source": [
    "Most Popular Items"
   ]
  },
  {
   "cell_type": "code",
   "execution_count": 38,
   "metadata": {},
   "outputs": [
    {
     "data": {
      "text/html": [
       "<style  type=\"text/css\" >\n",
       "</style><table id=\"T_6f298ef0_0924_11eb_8ef8_acde48001122\" ><thead>    <tr>        <th class=\"blank level0\" ></th>        <th class=\"col_heading level0 col0\" >Item Price</th>        <th class=\"col_heading level0 col1\" >Total Purchase Value</th>    </tr>    <tr>        <th class=\"index_name level0\" >Item ID</th>        <th class=\"blank\" ></th>        <th class=\"blank\" ></th>    </tr></thead><tbody>\n",
       "                <tr>\n",
       "                        <th id=\"T_6f298ef0_0924_11eb_8ef8_acde48001122level0_row0\" class=\"row_heading level0 row0\" >183</th>\n",
       "                        <td id=\"T_6f298ef0_0924_11eb_8ef8_acde48001122row0_col0\" class=\"data row0 col0\" >$3.27</td>\n",
       "                        <td id=\"T_6f298ef0_0924_11eb_8ef8_acde48001122row0_col1\" class=\"data row0 col1\" >$3.00</td>\n",
       "            </tr>\n",
       "            <tr>\n",
       "                        <th id=\"T_6f298ef0_0924_11eb_8ef8_acde48001122level0_row1\" class=\"row_heading level0 row1\" >182</th>\n",
       "                        <td id=\"T_6f298ef0_0924_11eb_8ef8_acde48001122row1_col0\" class=\"data row1 col0\" >$12.09</td>\n",
       "                        <td id=\"T_6f298ef0_0924_11eb_8ef8_acde48001122row1_col1\" class=\"data row1 col1\" >$3.00</td>\n",
       "            </tr>\n",
       "            <tr>\n",
       "                        <th id=\"T_6f298ef0_0924_11eb_8ef8_acde48001122level0_row2\" class=\"row_heading level0 row2\" >181</th>\n",
       "                        <td id=\"T_6f298ef0_0924_11eb_8ef8_acde48001122row2_col0\" class=\"data row2 col0\" >$8.30</td>\n",
       "                        <td id=\"T_6f298ef0_0924_11eb_8ef8_acde48001122row2_col1\" class=\"data row2 col1\" >$5.00</td>\n",
       "            </tr>\n",
       "            <tr>\n",
       "                        <th id=\"T_6f298ef0_0924_11eb_8ef8_acde48001122level0_row3\" class=\"row_heading level0 row3\" >179</th>\n",
       "                        <td id=\"T_6f298ef0_0924_11eb_8ef8_acde48001122row3_col0\" class=\"data row3 col0\" >$26.88</td>\n",
       "                        <td id=\"T_6f298ef0_0924_11eb_8ef8_acde48001122row3_col1\" class=\"data row3 col1\" >$6.00</td>\n",
       "            </tr>\n",
       "            <tr>\n",
       "                        <th id=\"T_6f298ef0_0924_11eb_8ef8_acde48001122level0_row4\" class=\"row_heading level0 row4\" >178</th>\n",
       "                        <td id=\"T_6f298ef0_0924_11eb_8ef8_acde48001122row4_col0\" class=\"data row4 col0\" >$50.76</td>\n",
       "                        <td id=\"T_6f298ef0_0924_11eb_8ef8_acde48001122row4_col1\" class=\"data row4 col1\" >$12.00</td>\n",
       "            </tr>\n",
       "            <tr>\n",
       "                        <th id=\"T_6f298ef0_0924_11eb_8ef8_acde48001122level0_row5\" class=\"row_heading level0 row5\" >177</th>\n",
       "                        <td id=\"T_6f298ef0_0924_11eb_8ef8_acde48001122row5_col0\" class=\"data row5 col0\" >$4.16</td>\n",
       "                        <td id=\"T_6f298ef0_0924_11eb_8ef8_acde48001122row5_col1\" class=\"data row5 col1\" >$2.00</td>\n",
       "            </tr>\n",
       "    </tbody></table>"
      ],
      "text/plain": [
       "<pandas.io.formats.style.Styler at 0x7fd9c2322ba8>"
      ]
     },
     "execution_count": 38,
     "metadata": {},
     "output_type": "execute_result"
    }
   ],
   "source": [
    "# gets a count of each item by grouping by Item ID and counting the number of each IDs occurances\n",
    "top5_items_ID = pd.DataFrame(purchase_df.groupby('Item ID').count())\n",
    "# sort from high to low total purchase count\n",
    "top5_items_ID.sort_values('Item ID', ascending = False, inplace = True)\n",
    "# keep the first 6 rows because there is a tie\n",
    "top5_items_ID = top5_items_ID.iloc[0:6][:]\n",
    "# find the total purchase value of each item\n",
    "top5_items_total = pd.DataFrame(purchase_df.groupby('Item ID')['Price'].sum())\n",
    "# merge purcahse count and total purcahse value \n",
    "top5_items = pd.merge(top5_items_ID, top5_items_total, left_index = True, right_index = True)\n",
    "# drop duplicate items from original Df\n",
    "no_dup_items = purchase_df.drop_duplicates(['Item ID'], keep = 'last')\n",
    "# merge to get all other info from the top 6 using the no dup df\n",
    "top5_merge_ID = pd.merge(top5_items, no_dup_items, left_index = True, right_on = 'Item ID')\n",
    "# keep only neede columns\n",
    "top5_merge_ID = top5_merge_ID[['Item ID', 'Price_y', 'Price_x']]\n",
    "# reset index as item ID for aesthetics\n",
    "top5_merge_ID.set_index(['Item ID'], inplace = True)\n",
    "# rename columns\n",
    "top5_merge_ID.rename(columns =  {'Item ID_x': 'Purchase Count', 'Price_y': 'Item Price', 'Price_x': 'Total Purchase Value'}, inplace=True)\n",
    "# format\n",
    "top5_merge_ID.style.format({'Item Price': '${:.2f}', 'Total Purchase Value': '${:.2f}'})"
   ]
  },
  {
   "cell_type": "code",
   "execution_count": null,
   "metadata": {},
   "outputs": [],
   "source": []
  },
  {
   "cell_type": "markdown",
   "metadata": {},
   "source": [
    "Most Profitable Items"
   ]
  },
  {
   "cell_type": "code",
   "execution_count": 39,
   "metadata": {},
   "outputs": [
    {
     "data": {
      "text/html": [
       "<style  type=\"text/css\" >\n",
       "</style><table id=\"T_6f9d5706_0924_11eb_bc74_acde48001122\" ><thead>    <tr>        <th class=\"blank level0\" ></th>        <th class=\"col_heading level0 col0\" >Item Name</th>        <th class=\"col_heading level0 col1\" >Purchase Count</th>        <th class=\"col_heading level0 col2\" >Item Price</th>        <th class=\"col_heading level0 col3\" >Total Purchase Value</th>    </tr>    <tr>        <th class=\"index_name level0\" >Item ID</th>        <th class=\"blank\" ></th>        <th class=\"blank\" ></th>        <th class=\"blank\" ></th>        <th class=\"blank\" ></th>    </tr></thead><tbody>\n",
       "                <tr>\n",
       "                        <th id=\"T_6f9d5706_0924_11eb_bc74_acde48001122level0_row0\" class=\"row_heading level0 row0\" >92</th>\n",
       "                        <td id=\"T_6f9d5706_0924_11eb_bc74_acde48001122row0_col0\" class=\"data row0 col0\" >Final Critic</td>\n",
       "                        <td id=\"T_6f9d5706_0924_11eb_bc74_acde48001122row0_col1\" class=\"data row0 col1\" >13</td>\n",
       "                        <td id=\"T_6f9d5706_0924_11eb_bc74_acde48001122row0_col2\" class=\"data row0 col2\" >$4.19</td>\n",
       "                        <td id=\"T_6f9d5706_0924_11eb_bc74_acde48001122row0_col3\" class=\"data row0 col3\" >$59.99</td>\n",
       "            </tr>\n",
       "            <tr>\n",
       "                        <th id=\"T_6f9d5706_0924_11eb_bc74_acde48001122level0_row1\" class=\"row_heading level0 row1\" >178</th>\n",
       "                        <td id=\"T_6f9d5706_0924_11eb_bc74_acde48001122row1_col0\" class=\"data row1 col0\" >Oathbreaker, Last Hope of the Breaking Storm</td>\n",
       "                        <td id=\"T_6f9d5706_0924_11eb_bc74_acde48001122row1_col1\" class=\"data row1 col1\" >12</td>\n",
       "                        <td id=\"T_6f9d5706_0924_11eb_bc74_acde48001122row1_col2\" class=\"data row1 col2\" >$4.23</td>\n",
       "                        <td id=\"T_6f9d5706_0924_11eb_bc74_acde48001122row1_col3\" class=\"data row1 col3\" >$50.76</td>\n",
       "            </tr>\n",
       "            <tr>\n",
       "                        <th id=\"T_6f9d5706_0924_11eb_bc74_acde48001122level0_row2\" class=\"row_heading level0 row2\" >82</th>\n",
       "                        <td id=\"T_6f9d5706_0924_11eb_bc74_acde48001122row2_col0\" class=\"data row2 col0\" >Nirvana</td>\n",
       "                        <td id=\"T_6f9d5706_0924_11eb_bc74_acde48001122row2_col1\" class=\"data row2 col1\" >9</td>\n",
       "                        <td id=\"T_6f9d5706_0924_11eb_bc74_acde48001122row2_col2\" class=\"data row2 col2\" >$4.90</td>\n",
       "                        <td id=\"T_6f9d5706_0924_11eb_bc74_acde48001122row2_col3\" class=\"data row2 col3\" >$44.10</td>\n",
       "            </tr>\n",
       "            <tr>\n",
       "                        <th id=\"T_6f9d5706_0924_11eb_bc74_acde48001122level0_row3\" class=\"row_heading level0 row3\" >145</th>\n",
       "                        <td id=\"T_6f9d5706_0924_11eb_bc74_acde48001122row3_col0\" class=\"data row3 col0\" >Fiery Glass Crusader</td>\n",
       "                        <td id=\"T_6f9d5706_0924_11eb_bc74_acde48001122row3_col1\" class=\"data row3 col1\" >9</td>\n",
       "                        <td id=\"T_6f9d5706_0924_11eb_bc74_acde48001122row3_col2\" class=\"data row3 col2\" >$4.58</td>\n",
       "                        <td id=\"T_6f9d5706_0924_11eb_bc74_acde48001122row3_col3\" class=\"data row3 col3\" >$41.22</td>\n",
       "            </tr>\n",
       "            <tr>\n",
       "                        <th id=\"T_6f9d5706_0924_11eb_bc74_acde48001122level0_row4\" class=\"row_heading level0 row4\" >103</th>\n",
       "                        <td id=\"T_6f9d5706_0924_11eb_bc74_acde48001122row4_col0\" class=\"data row4 col0\" >Singed Scalpel</td>\n",
       "                        <td id=\"T_6f9d5706_0924_11eb_bc74_acde48001122row4_col1\" class=\"data row4 col1\" >8</td>\n",
       "                        <td id=\"T_6f9d5706_0924_11eb_bc74_acde48001122row4_col2\" class=\"data row4 col2\" >$4.35</td>\n",
       "                        <td id=\"T_6f9d5706_0924_11eb_bc74_acde48001122row4_col3\" class=\"data row4 col3\" >$34.80</td>\n",
       "            </tr>\n",
       "    </tbody></table>"
      ],
      "text/plain": [
       "<pandas.io.formats.style.Styler at 0x7fd9c2c75d68>"
      ]
     },
     "execution_count": 39,
     "metadata": {},
     "output_type": "execute_result"
    }
   ],
   "source": [
    "# find total purcahse value and sort by high to low\n",
    "top5_profit = pd.DataFrame(purchase_df.groupby('Item ID')['Price'].sum())\n",
    "top5_profit.sort_values('Price', ascending = False, inplace = True)\n",
    "# only keep top 5\n",
    "top5_profit = top5_profit.iloc[0:5][:]\n",
    "# get item purchase count\n",
    "pur_count_profit = pd.DataFrame(purchase_df.groupby('Item ID')['Item ID'].count())\n",
    "\n",
    "top5_profit = pd.merge(top5_profit, pur_count_profit, left_index = True, right_index = True, how = 'left')\n",
    "top5_merge_profit = pd.merge(top5_profit, no_dup_items, left_index = True, right_on = 'Item ID', how = 'left')\n",
    "top5_merge_profit = top5_merge_profit[['Item ID', 'Item Name', 'Item ID_x', 'Price_y','Price_x']]\n",
    "top5_merge_profit.set_index(['Item ID'], inplace=True)\n",
    "top5_merge_profit.rename(columns = {'Item ID_x': 'Purchase Count', 'Price_y': 'Item Price', 'Price_x': 'Total Purchase Value'}, inplace = True)\n",
    "top5_merge_profit.style.format({'Item Price': '${:.2f}', 'Total Purchase Value': '${:.2f}'})"
   ]
  },
  {
   "cell_type": "code",
   "execution_count": null,
   "metadata": {},
   "outputs": [],
   "source": []
  },
  {
   "cell_type": "code",
   "execution_count": null,
   "metadata": {},
   "outputs": [],
   "source": []
  },
  {
   "cell_type": "code",
   "execution_count": null,
   "metadata": {},
   "outputs": [],
   "source": []
  },
  {
   "cell_type": "code",
   "execution_count": null,
   "metadata": {},
   "outputs": [],
   "source": []
  }
 ],
 "metadata": {
  "kernelspec": {
   "display_name": "Python [conda env:PythonData1] *",
   "language": "python",
   "name": "conda-env-PythonData1-py"
  },
  "language_info": {
   "codemirror_mode": {
    "name": "ipython",
    "version": 3
   },
   "file_extension": ".py",
   "mimetype": "text/x-python",
   "name": "python",
   "nbconvert_exporter": "python",
   "pygments_lexer": "ipython3",
   "version": "3.6.12"
  }
 },
 "nbformat": 4,
 "nbformat_minor": 4
}
