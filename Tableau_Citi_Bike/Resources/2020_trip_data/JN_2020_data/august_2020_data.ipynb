{
 "cells": [
  {
   "cell_type": "code",
   "execution_count": 1,
   "metadata": {},
   "outputs": [
    {
     "name": "stderr",
     "output_type": "stream",
     "text": [
      "/Users/g_wizz/opt/anaconda3/envs/PythonData1/lib/python3.6/site-packages/ipykernel_launcher.py:63: SettingWithCopyWarning: \n",
      "A value is trying to be set on a copy of a slice from a DataFrame.\n",
      "Try using .loc[row_indexer,col_indexer] = value instead\n",
      "\n",
      "See the caveats in the documentation: https://pandas.pydata.org/pandas-docs/stable/user_guide/indexing.html#returning-a-view-versus-a-copy\n"
     ]
    }
   ],
   "source": [
    "import pandas as pd\n",
    "from pandas import to_datetime\n",
    "import numpy as np\n",
    "\n",
    "df1 = pd.read_csv(\"August_20-citibike-tripdata.csv\")\n",
    "df1.head()\n",
    "\n",
    "df1.count()\n",
    "\n",
    "df1.dropna(how='any', inplace=True)\n",
    "df1.count()\n",
    "\n",
    "df1[pd.isnull(df1).any(axis=1)]\n",
    "\n",
    "df1.dropna()\n",
    "\n",
    "df1.isnull().any()\n",
    "\n",
    "df1.drop_duplicates()\n",
    "\n",
    "df1.columns\n",
    "\n",
    "df1['Age'] = 2020 - df1['birth year']\n",
    "df1\n",
    "\n",
    "# Convert trip duration column from seconds to minutes\n",
    "df1[\"tripduration\"] = [trip/60 for trip in df1[\"tripduration\"]]\n",
    "\n",
    "# Filter out trips over 24 hours long\n",
    "df1 = df1.loc[df1[\"tripduration\"] < 1440, :]\n",
    "\n",
    "df1.head()\n",
    "\n",
    "df1.rename(columns = {'tripduration':'Trip Duration',  'starttime':'Start Time', \n",
    "                       'stoptime':'Stop Time', 'gender':'Gender', \"usertype\":\"User Type\",\n",
    "                      'bikeid':'Bike ID', 'birth year':'Birth Year', 'start station id':'Start Station ID',\n",
    "                      'start station name':'Start Station Name' , 'start station latitude':'lat1',\n",
    "                       'start station longitude':'lon1', 'end station id':'End Station ID', \n",
    "                      'end station name':'End Station Name', 'end station latitude':'lat2',\n",
    "                      'end station longitude':'lon2'}, inplace = True)\n",
    "\n",
    "df1.columns\n",
    "\n",
    "df1['Gender'].replace([0,1,2],['unknown','male','female'],inplace=True)\n",
    "df1.head()\n",
    "\n",
    "df1.drop(df1.loc[df1['Trip Duration']<5].index, inplace=True)\n",
    "df1.head()\n",
    "\n",
    "august_df = df1[(df1['Birth Year'] >= 1995) & (df1['Birth Year'] <= 2002)]\n",
    "august_df.head()\n",
    "\n",
    "def haversine_distance(lat1, lon1, lat2, lon2):\n",
    "   r = 6371\n",
    "   phi1 = np.radians(lat1)\n",
    "   phi2 = np.radians(lat2)\n",
    "   delta_phi = np.radians(lat2-lat1)\n",
    "   delta_lambda = np.radians(lon2-lon1)\n",
    "   a = np.sin(delta_phi / 2)**2 + np.cos(phi1) * np.cos(phi2) *   np.sin(delta_lambda / 2)**2\n",
    "   res = r * (2 * np.arctan2(np.sqrt(a), np.sqrt(1-a)))\n",
    "   return np.round(res, 2)\n",
    "\n",
    "august_df['distance'] = haversine_distance(august_df['lon1'],august_df['lat1'],august_df['lon2'],august_df['lat2'])\n",
    "august_df.head()\n",
    "\n",
    "august_df.reset_index(drop=True, inplace=True)\n",
    "august_df.head()\n",
    "\n",
    "#august_df.to_csv(\"ugust_2020.csv\")\n",
    "\n"
   ]
  },
  {
   "cell_type": "code",
   "execution_count": null,
   "metadata": {},
   "outputs": [],
   "source": []
  }
 ],
 "metadata": {
  "kernelspec": {
   "display_name": "Python [conda env:PythonData1] *",
   "language": "python",
   "name": "conda-env-PythonData1-py"
  },
  "language_info": {
   "codemirror_mode": {
    "name": "ipython",
    "version": 3
   },
   "file_extension": ".py",
   "mimetype": "text/x-python",
   "name": "python",
   "nbconvert_exporter": "python",
   "pygments_lexer": "ipython3",
   "version": "3.6.12"
  }
 },
 "nbformat": 4,
 "nbformat_minor": 4
}
